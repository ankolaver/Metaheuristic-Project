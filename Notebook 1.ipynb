{"cells":[{"cellId":"45040467360646f1804082c08343c23d","cell_type":"code","metadata":{"source_hash":"8b99561e","execution_start":1749871330052,"execution_millis":1,"execution_context_id":"c9170caa-02be-41ef-9665-4483c5a44afd","cell_id":"45040467360646f1804082c08343c23d","deepnote_cell_type":"code"},"source":"","block_group":"45040467360646f1804082c08343c23d","execution_count":1,"outputs":[{"output_type":"execute_result","execution_count":1,"data":{"text/plain":"'Hello world'"},"metadata":{}}],"outputs_reference":"dbtable:cell_outputs/50e2eff6-bde9-438d-aee1-11651aa7ca0c","content_dependencies":null}],
        "metadata": {"deepnote_persisted_session":{"createdAt":"2025-06-10T07:51:45.310Z"},"deepnote_notebook_id":"93a9a5c37f1e4ea58c4b364e9941ca5b"},
        "nbformat": 4,
        "nbformat_minor": 0,
        "version": 0
      }